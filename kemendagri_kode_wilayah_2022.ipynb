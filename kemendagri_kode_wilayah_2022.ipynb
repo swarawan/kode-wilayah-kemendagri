{
 "cells": [
  {
   "cell_type": "code",
   "execution_count": 1,
   "id": "85655d2e-b83f-412f-a170-6c08e6fa1220",
   "metadata": {},
   "outputs": [],
   "source": [
    "import pandas as pd\n",
    "import os"
   ]
  },
  {
   "cell_type": "code",
   "execution_count": 2,
   "id": "654ff1ab-a7c2-4a5a-a398-d2d705a5d2c5",
   "metadata": {},
   "outputs": [
    {
     "data": {
      "text/html": [
       "<div>\n",
       "<style scoped>\n",
       "    .dataframe tbody tr th:only-of-type {\n",
       "        vertical-align: middle;\n",
       "    }\n",
       "\n",
       "    .dataframe tbody tr th {\n",
       "        vertical-align: top;\n",
       "    }\n",
       "\n",
       "    .dataframe thead th {\n",
       "        text-align: right;\n",
       "    }\n",
       "</style>\n",
       "<table border=\"1\" class=\"dataframe\">\n",
       "  <thead>\n",
       "    <tr style=\"text-align: right;\">\n",
       "      <th></th>\n",
       "      <th>code</th>\n",
       "      <th>name</th>\n",
       "      <th>level</th>\n",
       "      <th>parent</th>\n",
       "      <th>postal_code</th>\n",
       "    </tr>\n",
       "  </thead>\n",
       "  <tbody>\n",
       "    <tr>\n",
       "      <th>0</th>\n",
       "      <td>11</td>\n",
       "      <td>Aceh</td>\n",
       "      <td>1</td>\n",
       "      <td>NaN</td>\n",
       "      <td>NaN</td>\n",
       "    </tr>\n",
       "    <tr>\n",
       "      <th>1</th>\n",
       "      <td>1101</td>\n",
       "      <td>Kab. Aceh Selatan</td>\n",
       "      <td>2</td>\n",
       "      <td>11.0</td>\n",
       "      <td>NaN</td>\n",
       "    </tr>\n",
       "    <tr>\n",
       "      <th>2</th>\n",
       "      <td>110101</td>\n",
       "      <td>Bakongan</td>\n",
       "      <td>3</td>\n",
       "      <td>1101.0</td>\n",
       "      <td>NaN</td>\n",
       "    </tr>\n",
       "    <tr>\n",
       "      <th>3</th>\n",
       "      <td>1101012001</td>\n",
       "      <td>Keude Bakongan</td>\n",
       "      <td>4</td>\n",
       "      <td>110101.0</td>\n",
       "      <td>23773.0</td>\n",
       "    </tr>\n",
       "    <tr>\n",
       "      <th>4</th>\n",
       "      <td>1101012002</td>\n",
       "      <td>Ujong Mangki</td>\n",
       "      <td>4</td>\n",
       "      <td>110101.0</td>\n",
       "      <td>23773.0</td>\n",
       "    </tr>\n",
       "    <tr>\n",
       "      <th>...</th>\n",
       "      <td>...</td>\n",
       "      <td>...</td>\n",
       "      <td>...</td>\n",
       "      <td>...</td>\n",
       "      <td>...</td>\n",
       "    </tr>\n",
       "    <tr>\n",
       "      <th>86381</th>\n",
       "      <td>950828</td>\n",
       "      <td>Moba</td>\n",
       "      <td>3</td>\n",
       "      <td>9508.0</td>\n",
       "      <td>NaN</td>\n",
       "    </tr>\n",
       "    <tr>\n",
       "      <th>86382</th>\n",
       "      <td>950829</td>\n",
       "      <td>Wutpaga</td>\n",
       "      <td>3</td>\n",
       "      <td>9508.0</td>\n",
       "      <td>NaN</td>\n",
       "    </tr>\n",
       "    <tr>\n",
       "      <th>86383</th>\n",
       "      <td>950830</td>\n",
       "      <td>Nenggeagin</td>\n",
       "      <td>3</td>\n",
       "      <td>9508.0</td>\n",
       "      <td>NaN</td>\n",
       "    </tr>\n",
       "    <tr>\n",
       "      <th>86384</th>\n",
       "      <td>950831</td>\n",
       "      <td>Krepkuri</td>\n",
       "      <td>3</td>\n",
       "      <td>9508.0</td>\n",
       "      <td>NaN</td>\n",
       "    </tr>\n",
       "    <tr>\n",
       "      <th>86385</th>\n",
       "      <td>950832</td>\n",
       "      <td>Pasir Putih</td>\n",
       "      <td>3</td>\n",
       "      <td>9508.0</td>\n",
       "      <td>NaN</td>\n",
       "    </tr>\n",
       "  </tbody>\n",
       "</table>\n",
       "<p>86386 rows × 5 columns</p>\n",
       "</div>"
      ],
      "text/plain": [
       "             code               name  level    parent  postal_code\n",
       "0              11               Aceh      1       NaN          NaN\n",
       "1            1101  Kab. Aceh Selatan      2      11.0          NaN\n",
       "2          110101           Bakongan      3    1101.0          NaN\n",
       "3      1101012001     Keude Bakongan      4  110101.0      23773.0\n",
       "4      1101012002       Ujong Mangki      4  110101.0      23773.0\n",
       "...           ...                ...    ...       ...          ...\n",
       "86381      950828               Moba      3    9508.0          NaN\n",
       "86382      950829            Wutpaga      3    9508.0          NaN\n",
       "86383      950830         Nenggeagin      3    9508.0          NaN\n",
       "86384      950831           Krepkuri      3    9508.0          NaN\n",
       "86385      950832        Pasir Putih      3    9508.0          NaN\n",
       "\n",
       "[86386 rows x 5 columns]"
      ]
     },
     "execution_count": 2,
     "metadata": {},
     "output_type": "execute_result"
    }
   ],
   "source": [
    "df = pd.read_csv('kemendagri_kode_wilayah_2022.csv')\n",
    "df = df.rename(columns={'ma_code':'code','ma_name':'name','ma_level':'level','ma_parent':'parent','ma_postal_code':'postal_code'})\n",
    "df"
   ]
  },
  {
   "cell_type": "markdown",
   "id": "94e2c703-014a-4d6c-b3ec-569182c67bdd",
   "metadata": {},
   "source": [
    "# Level 1 (Provinsi / Province)"
   ]
  },
  {
   "cell_type": "code",
   "execution_count": 3,
   "id": "556029cb-72df-4514-b779-b3a9496ee18b",
   "metadata": {},
   "outputs": [
    {
     "data": {
      "text/html": [
       "<div>\n",
       "<style scoped>\n",
       "    .dataframe tbody tr th:only-of-type {\n",
       "        vertical-align: middle;\n",
       "    }\n",
       "\n",
       "    .dataframe tbody tr th {\n",
       "        vertical-align: top;\n",
       "    }\n",
       "\n",
       "    .dataframe thead th {\n",
       "        text-align: right;\n",
       "    }\n",
       "</style>\n",
       "<table border=\"1\" class=\"dataframe\">\n",
       "  <thead>\n",
       "    <tr style=\"text-align: right;\">\n",
       "      <th></th>\n",
       "      <th>code</th>\n",
       "      <th>name</th>\n",
       "    </tr>\n",
       "  </thead>\n",
       "  <tbody>\n",
       "    <tr>\n",
       "      <th>0</th>\n",
       "      <td>11</td>\n",
       "      <td>Aceh</td>\n",
       "    </tr>\n",
       "    <tr>\n",
       "      <th>6805</th>\n",
       "      <td>12</td>\n",
       "      <td>Sumatera Utara</td>\n",
       "    </tr>\n",
       "    <tr>\n",
       "      <th>13346</th>\n",
       "      <td>13</td>\n",
       "      <td>Sumatera Barat</td>\n",
       "    </tr>\n",
       "    <tr>\n",
       "      <th>14703</th>\n",
       "      <td>14</td>\n",
       "      <td>Riau</td>\n",
       "    </tr>\n",
       "    <tr>\n",
       "      <th>16732</th>\n",
       "      <td>15</td>\n",
       "      <td>Jambi</td>\n",
       "    </tr>\n",
       "  </tbody>\n",
       "</table>\n",
       "</div>"
      ],
      "text/plain": [
       "       code            name\n",
       "0        11            Aceh\n",
       "6805     12  Sumatera Utara\n",
       "13346    13  Sumatera Barat\n",
       "14703    14            Riau\n",
       "16732    15           Jambi"
      ]
     },
     "execution_count": 3,
     "metadata": {},
     "output_type": "execute_result"
    }
   ],
   "source": [
    "df_province = df.loc[df['level'] == 1]\n",
    "df_province = df_province.drop(['level', 'parent', 'postal_code'], axis=1)\n",
    "df_province.head()"
   ]
  },
  {
   "cell_type": "markdown",
   "id": "1ed6fab5-dcb1-4693-a8e5-8b551ce5fae4",
   "metadata": {},
   "source": [
    "# Level 2 (Kota / City)"
   ]
  },
  {
   "cell_type": "code",
   "execution_count": 4,
   "id": "63190368-b85f-470c-9100-70b8ac3ded81",
   "metadata": {},
   "outputs": [
    {
     "data": {
      "text/html": [
       "<div>\n",
       "<style scoped>\n",
       "    .dataframe tbody tr th:only-of-type {\n",
       "        vertical-align: middle;\n",
       "    }\n",
       "\n",
       "    .dataframe tbody tr th {\n",
       "        vertical-align: top;\n",
       "    }\n",
       "\n",
       "    .dataframe thead th {\n",
       "        text-align: right;\n",
       "    }\n",
       "</style>\n",
       "<table border=\"1\" class=\"dataframe\">\n",
       "  <thead>\n",
       "    <tr style=\"text-align: right;\">\n",
       "      <th></th>\n",
       "      <th>code</th>\n",
       "      <th>name</th>\n",
       "      <th>province_code</th>\n",
       "    </tr>\n",
       "  </thead>\n",
       "  <tbody>\n",
       "    <tr>\n",
       "      <th>1</th>\n",
       "      <td>1101</td>\n",
       "      <td>Kab. Aceh Selatan</td>\n",
       "      <td>11</td>\n",
       "    </tr>\n",
       "    <tr>\n",
       "      <th>280</th>\n",
       "      <td>1102</td>\n",
       "      <td>Kab. Aceh Tenggara</td>\n",
       "      <td>11</td>\n",
       "    </tr>\n",
       "    <tr>\n",
       "      <th>682</th>\n",
       "      <td>1103</td>\n",
       "      <td>Kab. Aceh Timur</td>\n",
       "      <td>11</td>\n",
       "    </tr>\n",
       "    <tr>\n",
       "      <th>1220</th>\n",
       "      <td>1104</td>\n",
       "      <td>Kab. Aceh Tengah</td>\n",
       "      <td>11</td>\n",
       "    </tr>\n",
       "    <tr>\n",
       "      <th>1530</th>\n",
       "      <td>1105</td>\n",
       "      <td>Kab. Aceh Barat</td>\n",
       "      <td>11</td>\n",
       "    </tr>\n",
       "  </tbody>\n",
       "</table>\n",
       "</div>"
      ],
      "text/plain": [
       "      code                name  province_code\n",
       "1     1101   Kab. Aceh Selatan             11\n",
       "280   1102  Kab. Aceh Tenggara             11\n",
       "682   1103     Kab. Aceh Timur             11\n",
       "1220  1104    Kab. Aceh Tengah             11\n",
       "1530  1105     Kab. Aceh Barat             11"
      ]
     },
     "execution_count": 4,
     "metadata": {},
     "output_type": "execute_result"
    }
   ],
   "source": [
    "df_city = df.loc[df['level'] == 2]\n",
    "df_city = df_city.drop(['level', 'postal_code'], axis=1)\n",
    "df_city = df_city.rename(columns={'parent':'province_code'})\n",
    "df_city = df_city.astype({'province_code' : 'int64'})\n",
    "df_city.head()"
   ]
  },
  {
   "cell_type": "markdown",
   "id": "d3057cf7-b3bb-4804-9d64-feee828f38ed",
   "metadata": {},
   "source": [
    "# Level 3 (Kecamatan / District)"
   ]
  },
  {
   "cell_type": "code",
   "execution_count": 5,
   "id": "be0c4078-e9fb-45c7-8eaf-68dc8994a6ee",
   "metadata": {},
   "outputs": [
    {
     "data": {
      "text/html": [
       "<div>\n",
       "<style scoped>\n",
       "    .dataframe tbody tr th:only-of-type {\n",
       "        vertical-align: middle;\n",
       "    }\n",
       "\n",
       "    .dataframe tbody tr th {\n",
       "        vertical-align: top;\n",
       "    }\n",
       "\n",
       "    .dataframe thead th {\n",
       "        text-align: right;\n",
       "    }\n",
       "</style>\n",
       "<table border=\"1\" class=\"dataframe\">\n",
       "  <thead>\n",
       "    <tr style=\"text-align: right;\">\n",
       "      <th></th>\n",
       "      <th>code</th>\n",
       "      <th>name</th>\n",
       "      <th>city_code</th>\n",
       "    </tr>\n",
       "  </thead>\n",
       "  <tbody>\n",
       "    <tr>\n",
       "      <th>2</th>\n",
       "      <td>110101</td>\n",
       "      <td>Bakongan</td>\n",
       "      <td>1101</td>\n",
       "    </tr>\n",
       "    <tr>\n",
       "      <th>10</th>\n",
       "      <td>110102</td>\n",
       "      <td>Kluet Utara</td>\n",
       "      <td>1101</td>\n",
       "    </tr>\n",
       "    <tr>\n",
       "      <th>32</th>\n",
       "      <td>110103</td>\n",
       "      <td>Kluet Selatan</td>\n",
       "      <td>1101</td>\n",
       "    </tr>\n",
       "    <tr>\n",
       "      <th>50</th>\n",
       "      <td>110104</td>\n",
       "      <td>Labuhan Haji</td>\n",
       "      <td>1101</td>\n",
       "    </tr>\n",
       "    <tr>\n",
       "      <th>67</th>\n",
       "      <td>110105</td>\n",
       "      <td>Meukek</td>\n",
       "      <td>1101</td>\n",
       "    </tr>\n",
       "  </tbody>\n",
       "</table>\n",
       "</div>"
      ],
      "text/plain": [
       "      code           name  city_code\n",
       "2   110101       Bakongan       1101\n",
       "10  110102    Kluet Utara       1101\n",
       "32  110103  Kluet Selatan       1101\n",
       "50  110104   Labuhan Haji       1101\n",
       "67  110105         Meukek       1101"
      ]
     },
     "execution_count": 5,
     "metadata": {},
     "output_type": "execute_result"
    }
   ],
   "source": [
    "df_district = df.loc[df['level'] == 3]\n",
    "df_district = df_district.drop(['level', 'postal_code'], axis=1)\n",
    "df_district = df_district.rename(columns={'parent':'city_code'})\n",
    "df_district = df_district.astype({'city_code' : 'int64'})\n",
    "df_district.head()"
   ]
  },
  {
   "cell_type": "markdown",
   "id": "9fbf6ca6-9ef7-4d01-849c-1152d7a9f2ce",
   "metadata": {},
   "source": [
    "# Level 4 (desa / village)"
   ]
  },
  {
   "cell_type": "code",
   "execution_count": 6,
   "id": "7a1e3584-0903-402b-a38d-651e877b970f",
   "metadata": {},
   "outputs": [
    {
     "ename": "KeyError",
     "evalue": "\"Only a column name can be used for the key in a dtype mappings argument. 'city_code' not found in columns.\"",
     "output_type": "error",
     "traceback": [
      "\u001b[0;31m---------------------------------------------------------------------------\u001b[0m",
      "\u001b[0;31mKeyError\u001b[0m                                  Traceback (most recent call last)",
      "\u001b[0;32m/var/folders/_k/zjgnyjf11mb2g0792j8kh9jr0000gn/T/ipykernel_45270/1179136761.py\u001b[0m in \u001b[0;36m?\u001b[0;34m()\u001b[0m\n\u001b[1;32m      1\u001b[0m \u001b[0mdf_village\u001b[0m \u001b[0;34m=\u001b[0m \u001b[0mdf\u001b[0m\u001b[0;34m.\u001b[0m\u001b[0mloc\u001b[0m\u001b[0;34m[\u001b[0m\u001b[0mdf\u001b[0m\u001b[0;34m[\u001b[0m\u001b[0;34m'level'\u001b[0m\u001b[0;34m]\u001b[0m \u001b[0;34m==\u001b[0m \u001b[0;36m4\u001b[0m\u001b[0;34m]\u001b[0m\u001b[0;34m\u001b[0m\u001b[0;34m\u001b[0m\u001b[0m\n\u001b[1;32m      2\u001b[0m \u001b[0mdf_village\u001b[0m \u001b[0;34m=\u001b[0m \u001b[0mdf_village\u001b[0m\u001b[0;34m.\u001b[0m\u001b[0mdrop\u001b[0m\u001b[0;34m(\u001b[0m\u001b[0;34m[\u001b[0m\u001b[0;34m'level'\u001b[0m\u001b[0;34m]\u001b[0m\u001b[0;34m,\u001b[0m \u001b[0maxis\u001b[0m\u001b[0;34m=\u001b[0m\u001b[0;36m1\u001b[0m\u001b[0;34m)\u001b[0m\u001b[0;34m\u001b[0m\u001b[0;34m\u001b[0m\u001b[0m\n\u001b[1;32m      3\u001b[0m \u001b[0mdf_village\u001b[0m \u001b[0;34m=\u001b[0m \u001b[0mdf_village\u001b[0m\u001b[0;34m.\u001b[0m\u001b[0mrename\u001b[0m\u001b[0;34m(\u001b[0m\u001b[0mcolumns\u001b[0m\u001b[0;34m=\u001b[0m\u001b[0;34m{\u001b[0m\u001b[0;34m'parent'\u001b[0m\u001b[0;34m:\u001b[0m\u001b[0;34m'district_code'\u001b[0m\u001b[0;34m}\u001b[0m\u001b[0;34m)\u001b[0m\u001b[0;34m\u001b[0m\u001b[0;34m\u001b[0m\u001b[0m\n\u001b[0;32m----> 4\u001b[0;31m \u001b[0mdf_village\u001b[0m \u001b[0;34m=\u001b[0m \u001b[0mdf_village\u001b[0m\u001b[0;34m.\u001b[0m\u001b[0mastype\u001b[0m\u001b[0;34m(\u001b[0m\u001b[0;34m{\u001b[0m\u001b[0;34m'city_code'\u001b[0m \u001b[0;34m:\u001b[0m \u001b[0;34m'int64'\u001b[0m\u001b[0;34m,\u001b[0m \u001b[0;34m'postal_code'\u001b[0m \u001b[0;34m:\u001b[0m \u001b[0;34m'int64'\u001b[0m\u001b[0;34m}\u001b[0m\u001b[0;34m)\u001b[0m\u001b[0;34m\u001b[0m\u001b[0;34m\u001b[0m\u001b[0m\n\u001b[0m\u001b[1;32m      5\u001b[0m \u001b[0mdf_village\u001b[0m\u001b[0;34m.\u001b[0m\u001b[0mhead\u001b[0m\u001b[0;34m(\u001b[0m\u001b[0;34m)\u001b[0m\u001b[0;34m\u001b[0m\u001b[0;34m\u001b[0m\u001b[0m\n",
      "\u001b[0;32m~/anaconda3/lib/python3.11/site-packages/pandas/core/generic.py\u001b[0m in \u001b[0;36m?\u001b[0;34m(self, dtype, copy, errors)\u001b[0m\n\u001b[1;32m   6494\u001b[0m             \u001b[0mdtype_ser\u001b[0m \u001b[0;34m=\u001b[0m \u001b[0mSeries\u001b[0m\u001b[0;34m(\u001b[0m\u001b[0mdtype\u001b[0m\u001b[0;34m,\u001b[0m \u001b[0mdtype\u001b[0m\u001b[0;34m=\u001b[0m\u001b[0mobject\u001b[0m\u001b[0;34m)\u001b[0m\u001b[0;34m\u001b[0m\u001b[0;34m\u001b[0m\u001b[0m\n\u001b[1;32m   6495\u001b[0m \u001b[0;34m\u001b[0m\u001b[0m\n\u001b[1;32m   6496\u001b[0m             \u001b[0;32mfor\u001b[0m \u001b[0mcol_name\u001b[0m \u001b[0;32min\u001b[0m \u001b[0mdtype_ser\u001b[0m\u001b[0;34m.\u001b[0m\u001b[0mindex\u001b[0m\u001b[0;34m:\u001b[0m\u001b[0;34m\u001b[0m\u001b[0;34m\u001b[0m\u001b[0m\n\u001b[1;32m   6497\u001b[0m                 \u001b[0;32mif\u001b[0m \u001b[0mcol_name\u001b[0m \u001b[0;32mnot\u001b[0m \u001b[0;32min\u001b[0m \u001b[0mself\u001b[0m\u001b[0;34m:\u001b[0m\u001b[0;34m\u001b[0m\u001b[0;34m\u001b[0m\u001b[0m\n\u001b[0;32m-> 6498\u001b[0;31m                     raise KeyError(\n\u001b[0m\u001b[1;32m   6499\u001b[0m                         \u001b[0;34m\"Only a column name can be used for the \"\u001b[0m\u001b[0;34m\u001b[0m\u001b[0;34m\u001b[0m\u001b[0m\n\u001b[1;32m   6500\u001b[0m                         \u001b[0;34m\"key in a dtype mappings argument. \"\u001b[0m\u001b[0;34m\u001b[0m\u001b[0;34m\u001b[0m\u001b[0m\n\u001b[1;32m   6501\u001b[0m                         \u001b[0;34mf\"'{col_name}' not found in columns.\"\u001b[0m\u001b[0;34m\u001b[0m\u001b[0;34m\u001b[0m\u001b[0m\n",
      "\u001b[0;31mKeyError\u001b[0m: \"Only a column name can be used for the key in a dtype mappings argument. 'city_code' not found in columns.\""
     ]
    }
   ],
   "source": [
    "df_village = df.loc[df['level'] == 4]\n",
    "df_village = df_village.drop(['level'], axis=1)\n",
    "df_village = df_village.rename(columns={'parent':'district_code'})\n",
    "df_village = df_village.astype({'district_code' : 'int64', 'postal_code' : 'int64'})\n",
    "df_village.head()"
   ]
  },
  {
   "cell_type": "code",
   "execution_count": null,
   "id": "b36fb829-5ca7-473a-8104-d99aa471b489",
   "metadata": {},
   "outputs": [],
   "source": [
    "df_village.loc[df_village['postal_code'] == 55153]"
   ]
  },
  {
   "cell_type": "code",
   "execution_count": null,
   "id": "b11082c8-ef50-40ae-b965-b585634459d2",
   "metadata": {},
   "outputs": [],
   "source": [
    "if not os.path.exists('output'):\n",
    "    os.makedirs('output')\n",
    "    \n",
    "df_province.to_csv('./output/kemendagri-province.csv',index=False)\n",
    "df_city.to_csv('./output/kemendagri-city.csv',index=False)\n",
    "df_district.to_csv('./output/kemendagri-district.csv',index=False)\n",
    "df_village.to_csv('./output/kemendagri-village.csv',index=False)"
   ]
  },
  {
   "cell_type": "code",
   "execution_count": null,
   "id": "ea225ff1-eb35-4c2f-a27d-0034abb3ec59",
   "metadata": {},
   "outputs": [],
   "source": []
  }
 ],
 "metadata": {
  "kernelspec": {
   "display_name": "Python 3 (ipykernel)",
   "language": "python",
   "name": "python3"
  },
  "language_info": {
   "codemirror_mode": {
    "name": "ipython",
    "version": 3
   },
   "file_extension": ".py",
   "mimetype": "text/x-python",
   "name": "python",
   "nbconvert_exporter": "python",
   "pygments_lexer": "ipython3",
   "version": "3.11.5"
  }
 },
 "nbformat": 4,
 "nbformat_minor": 5
}
